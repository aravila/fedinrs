{
 "cells": [
  {
   "cell_type": "markdown",
   "metadata": {},
   "source": [
    "# Deploy comunication compression scheme in FedLab\n",
    "\n",
    "This tutorial provides comprehensive examples about implementing a communication efficiency scheme in FedLab. \n",
    "\n",
    "We take the baseline gradient compression algorithms as examples (top-k for gradient sparsification and QSGD for gradient quantization)."
   ]
  },
  {
   "cell_type": "markdown",
   "metadata": {},
   "source": [
    "## Compress example"
   ]
  },
  {
   "cell_type": "code",
   "execution_count": 2,
   "metadata": {},
   "outputs": [],
   "source": [
    "import sys\n",
    "sys.path.append(\"../\")\n",
    "\n",
    "from fedlab.contrib.compressor.quantization import QSGDCompressor\n",
    "from fedlab.contrib.compressor.topk import TopkCompressor\n",
    "import torch\n",
    "\n",
    "tpk_compressor = TopkCompressor(compress_ratio=0.05) # top 5% gradient\n",
    "qsgd_compressor = QSGDCompressor(n_bit=8)\n"
   ]
  },
  {
   "cell_type": "code",
   "execution_count": 3,
   "metadata": {},
   "outputs": [
    {
     "name": "stdout",
     "output_type": "stream",
     "text": [
      "To be compressed tensor: tensor([ 6.1734e-01,  5.4566e-01, -2.7149e-01,  6.5477e-01, -1.5721e-01,\n",
      "         7.6196e-01,  3.2228e-02, -7.1947e-02,  2.0246e-03, -3.1017e-01,\n",
      "        -5.2364e-02,  1.3370e-02, -1.2945e+00, -8.5691e-01, -1.1126e+00,\n",
      "         8.4756e-02,  8.9776e-02, -7.6016e-02,  3.1314e-01,  1.9725e+00,\n",
      "         3.3934e-01, -9.9729e-01,  1.0586e+00, -9.6778e-01, -7.4282e-01,\n",
      "         6.4650e-01,  6.4144e-01,  9.5873e-01,  1.0628e+00, -1.4499e-01,\n",
      "        -4.6418e-01, -4.1658e-01, -1.9156e-01, -1.8017e+00,  9.3635e-01,\n",
      "        -3.1408e-01, -5.3132e-01,  5.2965e-01,  1.8596e-01, -1.2275e+00,\n",
      "        -1.1480e-01, -1.1655e+00, -2.0570e+00,  5.1458e-02, -3.8844e-01,\n",
      "        -8.8315e-01, -9.8421e-01,  1.4734e-01, -4.4630e-01, -3.2552e-01,\n",
      "         4.4482e-01,  3.5355e-01, -8.5873e-02,  2.3461e-01, -1.8525e+00,\n",
      "         2.1844e+00, -9.5873e-01, -6.0806e-01, -1.9722e+00, -7.7158e-01,\n",
      "         1.3210e+00,  3.6783e-02, -1.7248e+00, -4.4206e-01, -6.6339e-01,\n",
      "         1.4954e+00,  5.8603e-01,  5.9129e-01, -2.1030e+00, -2.0139e+00,\n",
      "        -1.5554e-01,  1.1191e+00, -2.0771e+00, -2.4043e-02,  2.4929e+00,\n",
      "         9.1978e-01,  2.9497e-01, -1.5307e+00, -1.9539e-01, -8.7429e-01,\n",
      "        -9.5797e-01,  1.8313e-01,  4.2002e-01,  6.8341e-01, -5.3022e-01,\n",
      "         1.3840e-01, -4.8472e-01, -4.5903e-01, -1.2543e+00, -2.3284e+00,\n",
      "         5.0028e-01,  2.3981e+00,  7.6838e-01, -1.7022e-01, -1.0047e+00,\n",
      "        -3.2782e-02,  9.0793e-01, -1.1387e+00,  5.0938e-01, -5.1867e-01])\n",
      "Compressed results top-k values: tensor([ 2.1844,  2.4929, -2.3284,  2.3981, -2.1030])\n",
      "Compressed results top-k indices: tensor([55, 74, 89, 91, 68])\n",
      "Decompressed results: tensor([ 0.0000,  0.0000,  0.0000,  0.0000,  0.0000,  0.0000,  0.0000,  0.0000,\n",
      "         0.0000,  0.0000,  0.0000,  0.0000,  0.0000,  0.0000,  0.0000,  0.0000,\n",
      "         0.0000,  0.0000,  0.0000,  0.0000,  0.0000,  0.0000,  0.0000,  0.0000,\n",
      "         0.0000,  0.0000,  0.0000,  0.0000,  0.0000,  0.0000,  0.0000,  0.0000,\n",
      "         0.0000,  0.0000,  0.0000,  0.0000,  0.0000,  0.0000,  0.0000,  0.0000,\n",
      "         0.0000,  0.0000,  0.0000,  0.0000,  0.0000,  0.0000,  0.0000,  0.0000,\n",
      "         0.0000,  0.0000,  0.0000,  0.0000,  0.0000,  0.0000,  0.0000,  2.1844,\n",
      "         0.0000,  0.0000,  0.0000,  0.0000,  0.0000,  0.0000,  0.0000,  0.0000,\n",
      "         0.0000,  0.0000,  0.0000,  0.0000, -2.1030,  0.0000,  0.0000,  0.0000,\n",
      "         0.0000,  0.0000,  2.4929,  0.0000,  0.0000,  0.0000,  0.0000,  0.0000,\n",
      "         0.0000,  0.0000,  0.0000,  0.0000,  0.0000,  0.0000,  0.0000,  0.0000,\n",
      "         0.0000, -2.3284,  0.0000,  2.3981,  0.0000,  0.0000,  0.0000,  0.0000,\n",
      "         0.0000,  0.0000,  0.0000,  0.0000])\n"
     ]
    }
   ],
   "source": [
    "# top-k\n",
    "tensor = torch.randn(size=(100,))\n",
    "shape = tensor.shape\n",
    "print(\"To be compressed tensor:\", tensor)\n",
    "\n",
    "# compress\n",
    "values, indices = tpk_compressor.compress(tensor)\n",
    "print(\"Compressed results top-k values:\",values)\n",
    "print(\"Compressed results top-k indices:\", indices)\n",
    "\n",
    "# decompress\n",
    "decompressed = tpk_compressor.decompress(values, indices, shape)\n",
    "print(\"Decompressed results:\", decompressed)"
   ]
  },
  {
   "cell_type": "code",
   "execution_count": 4,
   "metadata": {},
   "outputs": [
    {
     "name": "stdout",
     "output_type": "stream",
     "text": [
      "To be compressed tensor: tensor([-0.5874,  0.1735, -1.2135,  0.1112,  0.5729,  0.7815,  0.4815, -1.0461,\n",
      "        -0.9385,  0.6850, -1.4863,  0.5474, -0.0624,  0.6318, -1.2670,  0.5215,\n",
      "         0.3883,  0.0285, -0.8940,  0.4592,  0.5786,  1.7753,  1.2983,  1.3186,\n",
      "         0.0944,  0.6858,  0.4261, -0.9178, -1.1772, -1.2924, -1.0322, -1.6536,\n",
      "         1.6099,  0.1201,  1.0224,  0.9428, -0.8205, -0.3457, -1.8156, -1.0902,\n",
      "         0.8046, -1.3716, -1.5002, -0.1688,  0.5523, -0.5052, -0.9781,  1.8258,\n",
      "        -0.1122, -1.0995, -0.4280,  0.5172,  0.2979,  0.8120,  0.0586,  1.3134,\n",
      "         0.2217, -0.7003, -0.4524,  0.8423, -0.1866, -0.4635,  0.9709,  1.3031,\n",
      "         0.3019,  0.5531, -0.8191,  0.4463,  2.4395,  0.4004,  0.0116, -0.6406,\n",
      "         0.2261,  0.4500, -0.8234, -0.3746,  0.5307,  0.3020, -1.5407,  0.9442,\n",
      "         0.2261, -0.4509,  1.4290, -0.6274,  0.7533,  0.6486, -1.7730, -0.1257,\n",
      "         0.0763, -0.2843, -1.0591,  0.0258, -1.1020, -0.9979, -0.9123, -0.1618,\n",
      "         1.8885, -0.3585,  0.0026, -0.9952])\n",
      "Compressed results QSGD norm: tensor([2.4395])\n",
      "Compressed results QSGD signs: tensor([False,  True, False,  True,  True,  True,  True, False, False,  True,\n",
      "        False,  True, False,  True, False,  True,  True,  True, False,  True,\n",
      "         True,  True,  True,  True,  True,  True,  True, False, False, False,\n",
      "        False, False,  True,  True,  True,  True, False, False, False, False,\n",
      "         True, False, False, False,  True, False, False,  True, False, False,\n",
      "        False,  True,  True,  True,  True,  True,  True, False, False,  True,\n",
      "        False, False,  True,  True,  True,  True, False,  True,  True,  True,\n",
      "         True, False,  True,  True, False, False,  True,  True, False,  True,\n",
      "         True, False,  True, False,  True,  True, False, False,  True, False,\n",
      "        False,  True, False, False, False, False,  True, False,  True, False])\n",
      "Compressed results QSGD values: tensor([ 62,  18, 128,  12,  60,  82,  50, 110,  98,  72, 156,  58,   7,  66,\n",
      "        133,  55,  41,   3,  94,  48,  61, 187, 136, 138,  10,  72,  45,  96,\n",
      "        124, 136, 108, 173, 169,  13, 107,  99,  87,  36, 191, 115,  85, 144,\n",
      "        158,  18,  58,  53, 103, 191,  11, 115,  45,  54,  31,  85,   7, 138,\n",
      "         23,  74,  47,  89,  19,  49, 102, 136,  32,  58,  86,  47, 256,  42,\n",
      "          1,  67,  24,  47,  87,  40,  56,  32, 162,  99,  24,  47, 150,  66,\n",
      "         79,  68, 186,  13,   8,  30, 111,   3, 116, 105,  96,  17, 198,  37,\n",
      "          1, 105], dtype=torch.int32)\n"
     ]
    }
   ],
   "source": [
    "# qsgd\n",
    "tensor = torch.randn(size=(100,))\n",
    "shape = tensor.shape\n",
    "print(\"To be compressed tensor:\", tensor)\n",
    "\n",
    "# compress\n",
    "norm, signs, values = qsgd_compressor.compress(tensor)\n",
    "print(\"Compressed results QSGD norm:\", norm)\n",
    "print(\"Compressed results QSGD signs:\", signs)\n",
    "print(\"Compressed results QSGD values:\", values)\n"
   ]
  },
  {
   "cell_type": "code",
   "execution_count": 5,
   "metadata": {},
   "outputs": [
    {
     "name": "stdout",
     "output_type": "stream",
     "text": [
      "Decompressed results: tensor([-0.5908,  0.1715, -1.2198,  0.1144,  0.5718,  0.7814,  0.4765, -1.0482,\n",
      "        -0.9339,  0.6861, -1.4866,  0.5527, -0.0667,  0.6289, -1.2674,  0.5241,\n",
      "         0.3907,  0.0286, -0.8958,  0.4574,  0.5813,  1.7820,  1.2960,  1.3151,\n",
      "         0.0953,  0.6861,  0.4288, -0.9148, -1.1817, -1.2960, -1.0292, -1.6486,\n",
      "         1.6105,  0.1239,  1.0197,  0.9434, -0.8291, -0.3431, -1.8201, -1.0959,\n",
      "         0.8100, -1.3722, -1.5057, -0.1715,  0.5527, -0.5051, -0.9815,  1.8201,\n",
      "        -0.1048, -1.0959, -0.4288,  0.5146,  0.2954,  0.8100,  0.0667,  1.3151,\n",
      "         0.2192, -0.7052, -0.4479,  0.8481, -0.1811, -0.4669,  0.9720,  1.2960,\n",
      "         0.3049,  0.5527, -0.8195,  0.4479,  2.4395,  0.4002,  0.0095, -0.6385,\n",
      "         0.2287,  0.4479, -0.8291, -0.3812,  0.5337,  0.3049, -1.5438,  0.9434,\n",
      "         0.2287, -0.4479,  1.4294, -0.6289,  0.7528,  0.6480, -1.7725, -0.1239,\n",
      "         0.0762, -0.2859, -1.0578,  0.0286, -1.1054, -1.0006, -0.9148, -0.1620,\n",
      "         1.8868, -0.3526,  0.0095, -1.0006])\n"
     ]
    }
   ],
   "source": [
    "# decompress\n",
    "decompressed = qsgd_compressor.decompress([norm, signs, values])\n",
    "print(\"Decompressed results:\", decompressed)"
   ]
  },
  {
   "cell_type": "markdown",
   "metadata": {},
   "source": [
    "## Use compressor in federated learning\n",
    "\n",
    "For example on the client side, we could compress the tensors are to compressed and upload the compressed results to server. And server could decompress the tensors follows the compression agreements.\n",
    "\n",
    "In jupyter notebook, we take the standalone scenario as example."
   ]
  },
  {
   "cell_type": "code",
   "execution_count": 6,
   "metadata": {},
   "outputs": [],
   "source": [
    "from fedlab.contrib.algorithm.basic_client import SGDSerialClientTrainer, SGDClientTrainer\n",
    "from fedlab.contrib.algorithm.basic_server import SyncServerHandler\n",
    "\n",
    "class CompressSerialClientTrainer(SGDSerialClientTrainer):\n",
    "    def setup_compressor(self, compressor):\n",
    "        #self.compressor = TopkCompressor(compress_ratio=k)\n",
    "        self.compressor = compressor\n",
    "\n",
    "    @property\n",
    "    def uplink_package(self):\n",
    "        package = super().uplink_package\n",
    "        new_package = []\n",
    "        for content in package:\n",
    "            pack = [self.compressor.compress(content[0])]\n",
    "            new_package.append(pack)\n",
    "        return new_package\n",
    "\n",
    "class CompressServerHandeler(SyncServerHandler):\n",
    "    def setup_compressor(self, compressor, type):\n",
    "        #self.compressor = TopkCompressor(compress_ratio=k)\n",
    "        self.compressor = compressor\n",
    "        self.type = type\n",
    "\n",
    "    def load(self, payload) -> bool:\n",
    "        if self.type == \"topk\":\n",
    "            values, indices = payload[0]\n",
    "            decompressed_payload = self.compressor.decompress(values, indices, self.model_parameters.shape)\n",
    "\n",
    "        if self.type == \"qsgd\":\n",
    "            n, s, l = payload[0]\n",
    "            decompressed_payload = self.compressor.decompress((n,s,l))\n",
    "        \n",
    "        return super().load([decompressed_payload])"
   ]
  },
  {
   "cell_type": "code",
   "execution_count": 8,
   "metadata": {},
   "outputs": [],
   "source": [
    "# main, this part we follow the pipeline in pipeline_tutorial.ipynb\n",
    "# But replace the hander and trainer by the above defined for communication compression\n",
    "\n",
    "# configuration\n",
    "from opcode import cmp_op\n",
    "from munch import Munch\n",
    "from fedlab.models.mlp import MLP\n",
    "\n",
    "model = MLP(784, 10)\n",
    "args = Munch\n",
    "\n",
    "args.total_client = 100\n",
    "args.alpha = 0.5\n",
    "args.seed = 42\n",
    "args.preprocess = False\n",
    "args.cuda = True\n",
    "args.cmp_op = \"qsgd\" # \"topk, qsgd\"\n",
    "\n",
    "args.k = 0.1 # topk\n",
    "args.bit = 8 # qsgd\n",
    "\n",
    "if args.cmp_op == \"topk\":\n",
    "    compressor = TopkCompressor(args.k)\n",
    "\n",
    "if args.cmp_op == \"qsgd\":\n",
    "    compressor = QSGDCompressor(args.bit)\n",
    "\n",
    "from torchvision import transforms\n",
    "from fedlab.contrib.dataset.partitioned_mnist import PartitionedMNIST\n",
    "\n",
    "fed_mnist = PartitionedMNIST(root=\"../datasets/mnist/\",\n",
    "                             path=\"../datasets/mnist/fedmnist/\",\n",
    "                             num_clients=args.total_client,\n",
    "                             partition=\"noniid-labeldir\",\n",
    "                             dir_alpha=args.alpha,\n",
    "                             seed=args.seed,\n",
    "                             preprocess=args.preprocess,\n",
    "                             download=True,\n",
    "                             verbose=True,\n",
    "                             transform=transforms.Compose([\n",
    "                                 transforms.ToPILImage(),\n",
    "                                 transforms.ToTensor()\n",
    "                             ]))\n",
    "\n",
    "dataset = fed_mnist.get_dataset(0)  # get the 0-th client's dataset\n",
    "dataloader = fed_mnist.get_dataloader(\n",
    "    0,\n",
    "    batch_size=128)  # get the 0-th client's dataset loader with batch size 128\n"
   ]
  },
  {
   "cell_type": "code",
   "execution_count": 9,
   "metadata": {},
   "outputs": [],
   "source": [
    "# client\n",
    "from fedlab.contrib.algorithm.basic_client import SGDSerialClientTrainer, SGDClientTrainer\n",
    "\n",
    "# local train configuration\n",
    "args.epochs = 5\n",
    "args.batch_size = 128\n",
    "args.lr = 0.1\n",
    "\n",
    "trainer = CompressSerialClientTrainer(model, args.total_client,\n",
    "                                 cuda=args.cuda)  # serial trainer\n",
    "# trainer = SGDClientTrainer(model, cuda=True) # single trainer\n",
    "\n",
    "trainer.setup_dataset(fed_mnist)\n",
    "trainer.setup_optim(args.epochs, args.batch_size, args.lr)\n",
    "trainer.setup_compressor(compressor)\n",
    "\n",
    "# server\n",
    "from fedlab.contrib.algorithm.basic_server import SyncServerHandler\n",
    "\n",
    "# global configuration\n",
    "args.com_round = 10\n",
    "args.sample_ratio = 0.1\n",
    "\n",
    "handler = CompressServerHandeler(model=model,\n",
    "                            global_round=args.com_round,\n",
    "                            sample_ratio=args.sample_ratio,\n",
    "                            cuda=args.cuda)\n",
    "handler.setup_compressor(compressor, args.cmp_op)"
   ]
  },
  {
   "cell_type": "code",
   "execution_count": 11,
   "metadata": {},
   "outputs": [
    {
     "name": "stdout",
     "output_type": "stream",
     "text": [
      "loss 21.9179, test accuracy 0.1019\n",
      "loss 17.1236, test accuracy 0.5314\n",
      "loss 13.0101, test accuracy 0.5469\n",
      "loss 10.5621, test accuracy 0.6255\n",
      "loss 8.4762, test accuracy 0.6965\n",
      "loss 6.7011, test accuracy 0.7962\n",
      "loss 6.2239, test accuracy 0.8110\n",
      "loss 5.0510, test accuracy 0.8632\n",
      "loss 4.5892, test accuracy 0.8714\n",
      "loss 4.9932, test accuracy 0.8484\n"
     ]
    }
   ],
   "source": [
    "from fedlab.utils.functional import evaluate\n",
    "from fedlab.core.standalone import StandalonePipeline\n",
    "\n",
    "from torch import nn\n",
    "from torch.utils.data import DataLoader\n",
    "import torchvision\n",
    "\n",
    "class EvalPipeline(StandalonePipeline):\n",
    "    def __init__(self, handler, trainer, test_loader):\n",
    "        super().__init__(handler, trainer)\n",
    "        self.test_loader = test_loader\n",
    "\n",
    "    def main(self):\n",
    "        while self.handler.if_stop is False:\n",
    "            # server side\n",
    "            sampled_clients = self.handler.sample_clients()\n",
    "            broadcast = self.handler.downlink_package\n",
    "\n",
    "            # client side\n",
    "            self.trainer.local_process(broadcast, sampled_clients)\n",
    "            uploads = self.trainer.uplink_package\n",
    "\n",
    "            # server side\n",
    "            for pack in uploads:\n",
    "                self.handler.load(pack)\n",
    "\n",
    "            loss, acc = evaluate(self.handler.model, nn.CrossEntropyLoss(),\n",
    "                                 self.test_loader)\n",
    "            print(\"loss {:.4f}, test accuracy {:.4f}\".format(loss, acc))\n",
    "\n",
    "\n",
    "test_data = torchvision.datasets.MNIST(root=\"../datasets/mnist/\",\n",
    "                                       train=False,\n",
    "                                       transform=transforms.ToTensor())\n",
    "test_loader = DataLoader(test_data, batch_size=1024)\n",
    "\n",
    "standalone_eval = EvalPipeline(handler=handler,\n",
    "                               trainer=trainer,\n",
    "                               test_loader=test_loader)\n",
    "standalone_eval.main()"
   ]
  }
 ],
 "metadata": {
  "kernelspec": {
   "display_name": "Python 3.10.0 ('fedlab')",
   "language": "python",
   "name": "python3"
  },
  "language_info": {
   "codemirror_mode": {
    "name": "ipython",
    "version": 3
   },
   "file_extension": ".py",
   "mimetype": "text/x-python",
   "name": "python",
   "nbconvert_exporter": "python",
   "pygments_lexer": "ipython3",
   "version": "3.10.0"
  },
  "orig_nbformat": 4,
  "vscode": {
   "interpreter": {
    "hash": "019ae50596e3d4df627f3288be8543f4b17347150bdb9d2aa2e7c637014aee00"
   }
  }
 },
 "nbformat": 4,
 "nbformat_minor": 2
}
